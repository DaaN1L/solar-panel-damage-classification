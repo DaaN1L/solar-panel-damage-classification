{
 "cells": [
  {
   "cell_type": "code",
   "execution_count": 69,
   "id": "dbfe2762",
   "metadata": {},
   "outputs": [],
   "source": [
    "from sklearn.model_selection import train_test_split\n",
    "import numpy as np\n",
    "import pandas as pd\n",
    "from pathlib import Path"
   ]
  },
  {
   "cell_type": "code",
   "execution_count": 70,
   "id": "62280104",
   "metadata": {},
   "outputs": [
    {
     "data": {
      "text/plain": [
       "WindowsPath('D:/Projects/ml-simulations/data/labels.csv')"
      ]
     },
     "execution_count": 70,
     "metadata": {},
     "output_type": "execute_result"
    }
   ],
   "source": [
    "path_to_csv = Path(\".\").resolve().parent\n",
    "path_to_csv = path_to_csv / \"data\" / \"labels.csv\"\n",
    "path_to_csv"
   ]
  },
  {
   "cell_type": "code",
   "execution_count": 71,
   "id": "32dafa53",
   "metadata": {},
   "outputs": [],
   "source": [
    "data = pd.read_csv(path_to_csv)"
   ]
  },
  {
   "cell_type": "code",
   "execution_count": 72,
   "id": "2864223e",
   "metadata": {},
   "outputs": [
    {
     "data": {
      "text/html": [
       "<div>\n",
       "<style scoped>\n",
       "    .dataframe tbody tr th:only-of-type {\n",
       "        vertical-align: middle;\n",
       "    }\n",
       "\n",
       "    .dataframe tbody tr th {\n",
       "        vertical-align: top;\n",
       "    }\n",
       "\n",
       "    .dataframe thead th {\n",
       "        text-align: right;\n",
       "    }\n",
       "</style>\n",
       "<table border=\"1\" class=\"dataframe\">\n",
       "  <thead>\n",
       "    <tr style=\"text-align: right;\">\n",
       "      <th></th>\n",
       "      <th>image</th>\n",
       "      <th>label</th>\n",
       "      <th>name</th>\n",
       "    </tr>\n",
       "  </thead>\n",
       "  <tbody>\n",
       "    <tr>\n",
       "      <th>0</th>\n",
       "      <td>images/cell0001.png</td>\n",
       "      <td>1.0</td>\n",
       "      <td>mono</td>\n",
       "    </tr>\n",
       "    <tr>\n",
       "      <th>1</th>\n",
       "      <td>images/cell0002.png</td>\n",
       "      <td>1.0</td>\n",
       "      <td>mono</td>\n",
       "    </tr>\n",
       "    <tr>\n",
       "      <th>2</th>\n",
       "      <td>images/cell0003.png</td>\n",
       "      <td>1.0</td>\n",
       "      <td>mono</td>\n",
       "    </tr>\n",
       "    <tr>\n",
       "      <th>3</th>\n",
       "      <td>images/cell0004.png</td>\n",
       "      <td>0.0</td>\n",
       "      <td>mono</td>\n",
       "    </tr>\n",
       "    <tr>\n",
       "      <th>4</th>\n",
       "      <td>images/cell0005.png</td>\n",
       "      <td>1.0</td>\n",
       "      <td>mono</td>\n",
       "    </tr>\n",
       "    <tr>\n",
       "      <th>...</th>\n",
       "      <td>...</td>\n",
       "      <td>...</td>\n",
       "      <td>...</td>\n",
       "    </tr>\n",
       "    <tr>\n",
       "      <th>2619</th>\n",
       "      <td>images/cell2620.png</td>\n",
       "      <td>0.0</td>\n",
       "      <td>poly</td>\n",
       "    </tr>\n",
       "    <tr>\n",
       "      <th>2620</th>\n",
       "      <td>images/cell2621.png</td>\n",
       "      <td>0.0</td>\n",
       "      <td>poly</td>\n",
       "    </tr>\n",
       "    <tr>\n",
       "      <th>2621</th>\n",
       "      <td>images/cell2622.png</td>\n",
       "      <td>0.0</td>\n",
       "      <td>poly</td>\n",
       "    </tr>\n",
       "    <tr>\n",
       "      <th>2622</th>\n",
       "      <td>images/cell2623.png</td>\n",
       "      <td>0.0</td>\n",
       "      <td>poly</td>\n",
       "    </tr>\n",
       "    <tr>\n",
       "      <th>2623</th>\n",
       "      <td>images/cell2624.png</td>\n",
       "      <td>0.0</td>\n",
       "      <td>poly</td>\n",
       "    </tr>\n",
       "  </tbody>\n",
       "</table>\n",
       "<p>2624 rows × 3 columns</p>\n",
       "</div>"
      ],
      "text/plain": [
       "                    image  label  name\n",
       "0     images/cell0001.png    1.0  mono\n",
       "1     images/cell0002.png    1.0  mono\n",
       "2     images/cell0003.png    1.0  mono\n",
       "3     images/cell0004.png    0.0  mono\n",
       "4     images/cell0005.png    1.0  mono\n",
       "...                   ...    ...   ...\n",
       "2619  images/cell2620.png    0.0  poly\n",
       "2620  images/cell2621.png    0.0  poly\n",
       "2621  images/cell2622.png    0.0  poly\n",
       "2622  images/cell2623.png    0.0  poly\n",
       "2623  images/cell2624.png    0.0  poly\n",
       "\n",
       "[2624 rows x 3 columns]"
      ]
     },
     "execution_count": 72,
     "metadata": {},
     "output_type": "execute_result"
    }
   ],
   "source": [
    "data"
   ]
  },
  {
   "cell_type": "code",
   "execution_count": 85,
   "id": "01f9b493",
   "metadata": {},
   "outputs": [],
   "source": [
    "X, y = data[\"image\"].values, data[\"label\"].values"
   ]
  },
  {
   "cell_type": "code",
   "execution_count": 95,
   "id": "ddb4afe2",
   "metadata": {},
   "outputs": [
    {
     "name": "stdout",
     "output_type": "stream",
     "text": [
      "Number of labels 0 in the data: 1508 \n",
      "Number of labels 1 in the data: 1116 \n"
     ]
    }
   ],
   "source": [
    "num_labels = np.bincount(y.astype(int))\n",
    "\n",
    "print(\"Number of labels 0 in the data: {0[0]} \".format(num_labels))\n",
    "print(\"Number of labels 1 in the data: {0[1]} \".format(num_labels))"
   ]
  },
  {
   "cell_type": "code",
   "execution_count": 96,
   "id": "3a8f9f53",
   "metadata": {},
   "outputs": [],
   "source": [
    "# Split the data\n",
    "\n",
    "train_size, val_size, test_size = 0.6, 0.2, 0.2\n",
    "\n",
    "X_train, X_tmp, y_train, y_tmp = train_test_split(\n",
    "    X, y, test_size=1-train_size, stratify=y)\n",
    "\n",
    "relative_test_size = test_size / (test_size + val_size)\n",
    "X_val, X_test, y_val, y_test = train_test_split(\n",
    "    X_tmp, y_tmp, test_size=relative_test_size, stratify=y_tmp ) "
   ]
  },
  {
   "cell_type": "code",
   "execution_count": 104,
   "id": "cc647ca5",
   "metadata": {},
   "outputs": [
    {
     "name": "stdout",
     "output_type": "stream",
     "text": [
      "Labels count in y_train: [905 669] (total: 1574) \n",
      "Labels count in y_val: [301 224] (total: 525)\n",
      "Labels count in y_test: [302 223] (total: 525) \n"
     ]
    }
   ],
   "source": [
    "num_train_labels = np.bincount(y_train.astype(int))\n",
    "num_val_labels = np.bincount(y_val.astype(int))\n",
    "num_test_labels = np.bincount(y_test.astype(int))\n",
    "\n",
    "print(\"Labels count in y_train: {0} (total: {1}) \".format(num_train_labels, num_train_labels.sum()))\n",
    "print(\"Labels count in y_val: {0} (total: {1})\".format(num_val_labels, num_val_labels.sum()))\n",
    "print(\"Labels count in y_test: {0} (total: {1}) \".format(num_test_labels, num_test_labels.sum()))"
   ]
  },
  {
   "cell_type": "code",
   "execution_count": 106,
   "id": "8034e48c",
   "metadata": {},
   "outputs": [],
   "source": [
    "train_df = pd.DataFrame(data = {\"image\": X_train, \"label\": y_train})\n",
    "val_df = pd.DataFrame(data = {\"image\": X_val, \"label\": y_val})\n",
    "test_df = pd.DataFrame(data = {\"image\": X_test, \"label\": y_test})"
   ]
  },
  {
   "cell_type": "code",
   "execution_count": 107,
   "id": "4b5ac7dc",
   "metadata": {},
   "outputs": [],
   "source": [
    "train_df.to_csv(\"train.csv\", index=False)\n",
    "val_df.to_csv(\"val.csv\", index=False)\n",
    "test_df.to_csv(\"test.csv\", index=False)"
   ]
  },
  {
   "cell_type": "code",
   "execution_count": null,
   "id": "226a6ed1",
   "metadata": {},
   "outputs": [],
   "source": []
  }
 ],
 "metadata": {
  "kernelspec": {
   "display_name": "PyCharm (econometrics)",
   "language": "python",
   "name": "pycharm-17605034"
  },
  "language_info": {
   "codemirror_mode": {
    "name": "ipython",
    "version": 3
   },
   "file_extension": ".py",
   "mimetype": "text/x-python",
   "name": "python",
   "nbconvert_exporter": "python",
   "pygments_lexer": "ipython3",
   "version": "3.7.11"
  }
 },
 "nbformat": 4,
 "nbformat_minor": 5
}
